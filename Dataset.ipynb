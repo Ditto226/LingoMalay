{
 "cells": [
  {
   "cell_type": "markdown",
   "id": "137aec7d",
   "metadata": {},
   "source": [
    "load data"
   ]
  },
  {
   "cell_type": "code",
   "execution_count": 3,
   "id": "060e062a",
   "metadata": {},
   "outputs": [
    {
     "name": "stdout",
     "output_type": "stream",
     "text": [
      "Skipping D:\\LingoMalay\\Models_Transcribe\\Dataset\\dialects-processed-0-0\\dialects_processed\\#Pemukimanmanjung2017 Proton City, EduCity, YouthCity Selaras Blueprint Kerajaan Negeri  DSD Dr Zamb [9ddTio75T_M]\\#Pemukimanmanjung2017 Proton City, EduCity, YouthCity Selaras Blueprint Kerajaan Negeri  DSD Dr Zamb [9ddTio75T_M].json: Expecting value: line 1 column 1587 (char 1586)\n",
      "Total texts loaded: 123262\n"
     ]
    }
   ],
   "source": [
    "import os\n",
    "import json\n",
    "import joblib\n",
    "from sklearn.feature_extraction.text import TfidfVectorizer\n",
    "import numpy as np\n",
    "import pandas as pd\n",
    "\n",
    "base_dir = r\"D:\\LingoMalay\\Models_Transcribe\\Dataset\\dialects-processed-0-0\\dialects_processed\"\n",
    "all_mp3_paths = []\n",
    "# Collect all JSON files in the directory and its subdirectories\n",
    "all_texts = []\n",
    "\n",
    "# Normalize and support extended-length paths for Windows\n",
    "def safe_path(p):\n",
    "    return r\"\\\\?\\{}\".format(os.path.abspath(p))\n",
    "\n",
    "for root, dirs, files in os.walk(base_dir):\n",
    "    for file in files:\n",
    "        if file.endswith(\".json\"):\n",
    "            json_path = os.path.join(root, file)\n",
    "            folder_name = os.path.basename(root)  # e.g. \"!!! Penting Buat...\"\n",
    "            \n",
    "            try:\n",
    "                with open(safe_path(json_path), 'r', encoding='utf-8') as f:\n",
    "                    data = json.load(f)\n",
    "                    for idx, entry in enumerate(data):\n",
    "                        if \"text\" in entry and entry[\"text\"].strip():\n",
    "                            all_texts.append(entry[\"text\"].strip())\n",
    "\n",
    "                            # Construct corresponding mp3 filename\n",
    "                            mp3_filename = f\"{folder_name}_{idx}.mp3\"\n",
    "                            mp3_path = os.path.join(root, mp3_filename)\n",
    "\n",
    "                            all_mp3_paths.append(mp3_path)\n",
    "            except (FileNotFoundError, OSError, json.JSONDecodeError) as e:\n",
    "                print(f\"Skipping {json_path}: {e}\")\n",
    "                continue\n",
    "\n",
    "print(f\"Total texts loaded: {len(all_texts)}\")"
   ]
  },
  {
   "cell_type": "code",
   "execution_count": 4,
   "id": "67e946b7",
   "metadata": {},
   "outputs": [
    {
     "name": "stdout",
     "output_type": "stream",
     "text": [
      "Total cleaned texts: 123262\n",
      "Total JSON files processed: 123262\n",
      "Jemaah kita, Malaysia, nak ke Jamarat ni memang jauh. Memang jauh. Kita biasanya, Jemaah Malaysia, ataupun Asia Tenggara lah, Indonesia, Thailand ni, akan duduk di satu tempat nama Muasir.\n",
      "D:\\LingoMalay\\Models_Transcribe\\Dataset\\dialects-processed-0-0\\dialects_processed\\!!! Penting Buat Bakal Jemaah Haji - ＂CARA-CARA MELONTAR JAMRAH MENGIKUT SUNNAH RASULULLAH＂ [O15OpWSYGL8]\\!!! Penting Buat Bakal Jemaah Haji - ＂CARA-CARA MELONTAR JAMRAH MENGIKUT SUNNAH RASULULLAH＂ [O15OpWSYGL8]_0.mp3\n"
     ]
    }
   ],
   "source": [
    "\n",
    "print(f\"Total cleaned texts: {len(all_texts)}\")\n",
    "print(f\"Total JSON files processed: {len(all_mp3_paths)}\")\n",
    "print(all_texts[0])\n",
    "print(all_mp3_paths[0])"
   ]
  },
  {
   "cell_type": "markdown",
   "id": "e5469747",
   "metadata": {},
   "source": [
    "filter data"
   ]
  },
  {
   "cell_type": "code",
   "execution_count": null,
   "id": "7477305b",
   "metadata": {},
   "outputs": [],
   "source": [
    "import re\n",
    "\n",
    "def rule_based_filter(sentence):\n",
    "    kelantan_keywords = [\n",
    "        'muko', 'napok', 'nok', 'mano', 'bakpo', 'gapo', 'kawe',\n",
    "        'toksey', 'pitih', 'segho', 'loni', 'mugo', 'kecek', 'molek',\n",
    "        'ambo', 'tokleh', 'hok', 'jupo', 'kito', 'awok', 'bakpe',\n",
    "        'sapo', 'ghoyak', 'tokseh', 'dio', 'klaring', 'deh', 'huje',\n",
    "        'bakpo', 'berapo', 'sedak', 'pulok', 'bekwoh', 'kijo', 'sek', 'dio', \n",
    "        'nikoh', 'debek', 'nneja', 'roba', 'saksoba', 'hok', 'bey', 'raso',\n",
    "        'mace','punoh', 'te', 'kane', 'hek', 'jolo', 'oghe', 'nyenyeh',\n",
    "        'jumpo', 'ado', 'setaro', 'pitih', 'nate', 'tubik', 'jange',\n",
    "    ]\n",
    "    # pikashare, ml studio,\n",
    "    # belakang a -> o, terngganu a -> ee\n",
    "    # belakang n -> e, 'terngganu n -> ng\n",
    "\n",
    "    kedah_keywords = [\n",
    "        'awat', 'hang', 'pi', 'mai', 'lagu tu', 'dengaq',\n",
    "        'pa', 'takpa', 'cheq', 'mengai', 'pasaipa', \n",
    "        'depa', 'tang mana', 'sat', 'jenuh', 'dok', 'betui',\n",
    "        'buatpa', 'hangpa', 'mai', 'pikiaq', 'pasai', 'loqlaq',\n",
    "        'dakgi', 'lani', 'tu dia', 'biaq', 'campuq', \n",
    "        'biaq pi', 'dok leh', 'ayaq', 'baguih',\n",
    "    ]\n",
    "    # lan petpet, ag coco\n",
    "    # r -> gh\n",
    "    # tatau kt blkg ayat\n",
    "    # kedah more straight, penang more goyang\n",
    "\n",
    "    # Tokenize into words only\n",
    "    tokens = re.findall(r'\\b\\w+\\b', sentence)\n",
    "    lower_words = [w.lower() for w in tokens]\n",
    "\n",
    "    # Skip proper nouns (capitalized, not first word)\n",
    "    filtered_tokens = [\n",
    "        w.lower()\n",
    "        for i, w in enumerate(tokens)\n",
    "        if not (w[0].isupper() and i != 0)\n",
    "    ]\n",
    "\n",
    "    # Scoring based on filtered tokens\n",
    "    kelantan_score = sum(w in kelantan_keywords for w in filtered_tokens)\n",
    "    kedah_score = sum(w in kedah_keywords for w in filtered_tokens)\n",
    "\n",
    "    if kelantan_score > 0:\n",
    "        return 'Kelantan'\n",
    "    elif kedah_score > 0:\n",
    "        return 'Kedah'\n",
    "    else:\n",
    "        return None\n",
    "\n",
    "    return None"
   ]
  },
  {
   "cell_type": "code",
   "execution_count": 5,
   "id": "7d2ecfca",
   "metadata": {},
   "outputs": [
    {
     "data": {
      "text/html": [
       "<div>\n",
       "<style scoped>\n",
       "    .dataframe tbody tr th:only-of-type {\n",
       "        vertical-align: middle;\n",
       "    }\n",
       "\n",
       "    .dataframe tbody tr th {\n",
       "        vertical-align: top;\n",
       "    }\n",
       "\n",
       "    .dataframe thead th {\n",
       "        text-align: right;\n",
       "    }\n",
       "</style>\n",
       "<table border=\"1\" class=\"dataframe\">\n",
       "  <thead>\n",
       "    <tr style=\"text-align: right;\">\n",
       "      <th></th>\n",
       "      <th>text</th>\n",
       "      <th>mp3_path</th>\n",
       "      <th>dialect</th>\n",
       "    </tr>\n",
       "  </thead>\n",
       "  <tbody>\n",
       "    <tr>\n",
       "      <th>0</th>\n",
       "      <td>Kalau pakcik niat iprot, 40 hari pakcik tak bo...</td>\n",
       "      <td>D:\\LingoMalay\\Models_Transcribe\\Dataset\\dialec...</td>\n",
       "      <td>Kelantan</td>\n",
       "    </tr>\n",
       "    <tr>\n",
       "      <th>1</th>\n",
       "      <td>Haa, memaafkan orang lain. Maksudnya, dia ni, ...</td>\n",
       "      <td>D:\\LingoMalay\\Models_Transcribe\\Dataset\\dialec...</td>\n",
       "      <td>Kedah</td>\n",
       "    </tr>\n",
       "    <tr>\n",
       "      <th>2</th>\n",
       "      <td>Ada pelajar baru ni, baru masuk tahun ni lah. ...</td>\n",
       "      <td>D:\\LingoMalay\\Models_Transcribe\\Dataset\\dialec...</td>\n",
       "      <td>Kedah</td>\n",
       "    </tr>\n",
       "    <tr>\n",
       "      <th>3</th>\n",
       "      <td>Ha, ini kan, tuan-tuan, umay sayok tu, lah. Um...</td>\n",
       "      <td>D:\\LingoMalay\\Models_Transcribe\\Dataset\\dialec...</td>\n",
       "      <td>Kedah</td>\n",
       "    </tr>\n",
       "    <tr>\n",
       "      <th>4</th>\n",
       "      <td>Look, businesses, freelance projects, relation...</td>\n",
       "      <td>D:\\LingoMalay\\Models_Transcribe\\Dataset\\dialec...</td>\n",
       "      <td>Kedah</td>\n",
       "    </tr>\n",
       "    <tr>\n",
       "      <th>...</th>\n",
       "      <td>...</td>\n",
       "      <td>...</td>\n",
       "      <td>...</td>\n",
       "    </tr>\n",
       "    <tr>\n",
       "      <th>153</th>\n",
       "      <td>Bahkan aku pemilik rumah ni pun Allah dah bagi...</td>\n",
       "      <td>D:\\LingoMalay\\Models_Transcribe\\Dataset\\dialec...</td>\n",
       "      <td>Kedah</td>\n",
       "    </tr>\n",
       "    <tr>\n",
       "      <th>154</th>\n",
       "      <td>Saya nak buat katakan, ada benda kadang-kadang...</td>\n",
       "      <td>D:\\LingoMalay\\Models_Transcribe\\Dataset\\dialec...</td>\n",
       "      <td>Kedah</td>\n",
       "    </tr>\n",
       "    <tr>\n",
       "      <th>155</th>\n",
       "      <td>Hang tak boleh nak lawan dia. Tapi hang nak la...</td>\n",
       "      <td>D:\\LingoMalay\\Models_Transcribe\\Dataset\\dialec...</td>\n",
       "      <td>Kedah</td>\n",
       "    </tr>\n",
       "    <tr>\n",
       "      <th>156</th>\n",
       "      <td>Orang yang mulia, orang yang baguih-baguih, Na...</td>\n",
       "      <td>D:\\LingoMalay\\Models_Transcribe\\Dataset\\dialec...</td>\n",
       "      <td>Kedah</td>\n",
       "    </tr>\n",
       "    <tr>\n",
       "      <th>157</th>\n",
       "      <td>Hang, tak usah lah, duk sembah, tok kong ni, a...</td>\n",
       "      <td>D:\\LingoMalay\\Models_Transcribe\\Dataset\\dialec...</td>\n",
       "      <td>Kedah</td>\n",
       "    </tr>\n",
       "  </tbody>\n",
       "</table>\n",
       "<p>158 rows × 3 columns</p>\n",
       "</div>"
      ],
      "text/plain": [
       "                                                  text  \\\n",
       "0    Kalau pakcik niat iprot, 40 hari pakcik tak bo...   \n",
       "1    Haa, memaafkan orang lain. Maksudnya, dia ni, ...   \n",
       "2    Ada pelajar baru ni, baru masuk tahun ni lah. ...   \n",
       "3    Ha, ini kan, tuan-tuan, umay sayok tu, lah. Um...   \n",
       "4    Look, businesses, freelance projects, relation...   \n",
       "..                                                 ...   \n",
       "153  Bahkan aku pemilik rumah ni pun Allah dah bagi...   \n",
       "154  Saya nak buat katakan, ada benda kadang-kadang...   \n",
       "155  Hang tak boleh nak lawan dia. Tapi hang nak la...   \n",
       "156  Orang yang mulia, orang yang baguih-baguih, Na...   \n",
       "157  Hang, tak usah lah, duk sembah, tok kong ni, a...   \n",
       "\n",
       "                                              mp3_path   dialect  \n",
       "0    D:\\LingoMalay\\Models_Transcribe\\Dataset\\dialec...  Kelantan  \n",
       "1    D:\\LingoMalay\\Models_Transcribe\\Dataset\\dialec...     Kedah  \n",
       "2    D:\\LingoMalay\\Models_Transcribe\\Dataset\\dialec...     Kedah  \n",
       "3    D:\\LingoMalay\\Models_Transcribe\\Dataset\\dialec...     Kedah  \n",
       "4    D:\\LingoMalay\\Models_Transcribe\\Dataset\\dialec...     Kedah  \n",
       "..                                                 ...       ...  \n",
       "153  D:\\LingoMalay\\Models_Transcribe\\Dataset\\dialec...     Kedah  \n",
       "154  D:\\LingoMalay\\Models_Transcribe\\Dataset\\dialec...     Kedah  \n",
       "155  D:\\LingoMalay\\Models_Transcribe\\Dataset\\dialec...     Kedah  \n",
       "156  D:\\LingoMalay\\Models_Transcribe\\Dataset\\dialec...     Kedah  \n",
       "157  D:\\LingoMalay\\Models_Transcribe\\Dataset\\dialec...     Kedah  \n",
       "\n",
       "[158 rows x 3 columns]"
      ]
     },
     "execution_count": 5,
     "metadata": {},
     "output_type": "execute_result"
    }
   ],
   "source": [
    "# Step 1: Create initial DataFrame\n",
    "dialects_df = pd.DataFrame({\n",
    "    \"text\": all_texts,\n",
    "    \"mp3_path\": all_mp3_paths\n",
    "})\n",
    "\n",
    "# Step 2: Apply rule-based filter and store results\n",
    "dialects_df[\"dialect\"] = dialects_df[\"text\"].apply(rule_based_filter)\n",
    "\n",
    "# Step 3: Keep only rows where dialect was detected (i.e. not null)\n",
    "dialects_df = dialects_df[dialects_df[\"dialect\"].notnull()].reset_index(drop=True)\n",
    "\n",
    "dialects_df"
   ]
  },
  {
   "cell_type": "code",
   "execution_count": 6,
   "id": "03ff74b3",
   "metadata": {},
   "outputs": [],
   "source": [
    "dialects_df.to_csv(\"dialects_filtered_1.csv\", index=False)\n",
    "# Save the DataFrame to a CSV file"
   ]
  },
  {
   "cell_type": "markdown",
   "id": "a1acc15e",
   "metadata": {},
   "source": [
    "Chunking audio"
   ]
  },
  {
   "cell_type": "code",
   "execution_count": 12,
   "id": "5a8be00a",
   "metadata": {},
   "outputs": [
    {
     "name": "stdout",
     "output_type": "stream",
     "text": [
      "Saved: Alieff_Irfan\\Alieff_Irfan_1.wav\n",
      "Saved: Alieff_Irfan\\Alieff_Irfan_2.wav\n",
      "Saved: Alieff_Irfan\\Alieff_Irfan_3.wav\n",
      "Saved: Alieff_Irfan\\Alieff_Irfan_4.wav\n",
      "Saved: Alieff_Irfan\\Alieff_Irfan_5.wav\n",
      "Saved: Alieff_Irfan\\Alieff_Irfan_6.wav\n",
      "Saved: Alieff_Irfan\\Alieff_Irfan_7.wav\n",
      "Saved: Alieff_Irfan\\Alieff_Irfan_8.wav\n",
      "Saved: Alieff_Irfan\\Alieff_Irfan_9.wav\n",
      "Saved: Alieff_Irfan\\Alieff_Irfan_10.wav\n",
      "Saved: Alieff_Irfan\\Alieff_Irfan_11.wav\n",
      "Saved: Alieff_Irfan\\Alieff_Irfan_12.wav\n",
      "Saved: Alieff_Irfan\\Alieff_Irfan_13.wav\n",
      "Saved: Alieff_Irfan\\Alieff_Irfan_14.wav\n",
      "Saved: Alieff_Irfan\\Alieff_Irfan_15.wav\n",
      "Saved: Alieff_Irfan\\Alieff_Irfan_16.wav\n",
      "Saved: Alieff_Irfan\\Alieff_Irfan_17.wav\n",
      "Saved: Alieff_Irfan\\Alieff_Irfan_18.wav\n",
      "Saved: Alieff_Irfan\\Alieff_Irfan_19.wav\n",
      "Saved: Alieff_Irfan\\Alieff_Irfan_20.wav\n",
      "Saved: Alieff_Irfan\\Alieff_Irfan_21.wav\n",
      "Saved: Alieff_Irfan\\Alieff_Irfan_22.wav\n",
      "Saved: Alieff_Irfan\\Alieff_Irfan_23.wav\n",
      "Saved: Alieff_Irfan\\Alieff_Irfan_24.wav\n",
      "Saved: Alieff_Irfan\\Alieff_Irfan_25.wav\n",
      "Saved: Alieff_Irfan\\Alieff_Irfan_26.wav\n",
      "Saved: Alieff_Irfan\\Alieff_Irfan_27.wav\n",
      "Saved: Alieff_Irfan\\Alieff_Irfan_28.wav\n",
      "Saved: Alieff_Irfan\\Alieff_Irfan_29.wav\n",
      "Saved: Alieff_Irfan\\Alieff_Irfan_30.wav\n",
      "Saved: Alieff_Irfan\\Alieff_Irfan_31.wav\n",
      "Saved: Alieff_Irfan\\Alieff_Irfan_32.wav\n",
      "Saved: Alieff_Irfan\\Alieff_Irfan_33.wav\n",
      "Saved: Alieff_Irfan\\Alieff_Irfan_34.wav\n",
      "Saved: Alieff_Irfan\\Alieff_Irfan_35.wav\n",
      "Saved: Alieff_Irfan\\Alieff_Irfan_36.wav\n",
      "Saved: Alieff_Irfan\\Alieff_Irfan_37.wav\n",
      "Saved: Alieff_Irfan\\Alieff_Irfan_38.wav\n",
      "Saved: Alieff_Irfan\\Alieff_Irfan_39.wav\n",
      "Saved: Alieff_Irfan\\Alieff_Irfan_40.wav\n",
      "Saved: Alieff_Irfan\\Alieff_Irfan_41.wav\n",
      "Saved: Alieff_Irfan\\Alieff_Irfan_42.wav\n",
      "Saved: Alieff_Irfan\\Alieff_Irfan_43.wav\n",
      "Saved: Alieff_Irfan\\Alieff_Irfan_44.wav\n",
      "Saved: Alieff_Irfan\\Alieff_Irfan_45.wav\n",
      "Saved: Alieff_Irfan\\Alieff_Irfan_46.wav\n",
      "Saved: Alieff_Irfan\\Alieff_Irfan_47.wav\n",
      "Saved: Alieff_Irfan\\Alieff_Irfan_48.wav\n",
      "Saved: Alieff_Irfan\\Alieff_Irfan_49.wav\n",
      "Saved: Alieff_Irfan\\Alieff_Irfan_50.wav\n",
      "Saved: Alieff_Irfan\\Alieff_Irfan_51.wav\n",
      "Saved: Alieff_Irfan\\Alieff_Irfan_52.wav\n",
      "Saved: Alieff_Irfan\\Alieff_Irfan_53.wav\n",
      "Saved: Alieff_Irfan\\Alieff_Irfan_54.wav\n",
      "Saved: Alieff_Irfan\\Alieff_Irfan_55.wav\n",
      "Saved: Alieff_Irfan\\Alieff_Irfan_56.wav\n",
      "Saved: Alieff_Irfan\\Alieff_Irfan_57.wav\n",
      "Saved: Alieff_Irfan\\Alieff_Irfan_58.wav\n",
      "Saved: Alieff_Irfan\\Alieff_Irfan_59.wav\n",
      "Saved: Alieff_Irfan\\Alieff_Irfan_60.wav\n",
      "Saved: Alieff_Irfan\\Alieff_Irfan_61.wav\n",
      "Saved: Alieff_Irfan\\Alieff_Irfan_62.wav\n",
      "Saved: Alieff_Irfan\\Alieff_Irfan_63.wav\n",
      "Saved: Alieff_Irfan\\Alieff_Irfan_64.wav\n",
      "Saved: Alieff_Irfan\\Alieff_Irfan_65.wav\n",
      "Saved: Alieff_Irfan\\Alieff_Irfan_66.wav\n",
      "Saved: Alieff_Irfan\\Alieff_Irfan_67.wav\n",
      "Saved: Alieff_Irfan\\Alieff_Irfan_68.wav\n",
      "Saved: Alieff_Irfan\\Alieff_Irfan_69.wav\n"
     ]
    }
   ],
   "source": [
    "from pydub import AudioSegment, silence\n",
    "import os\n",
    "\n",
    "# Load audio\n",
    "# audio = AudioSegment.from_file(r\"C:\\Users\\aqils\\Downloads\\Indahnya Nikmat Di Syurga _ Pengajian Kitab Sayyidina Muhammad ﷺ - Ustaz Muhaizad Muhammad [FIKfntA42Ww].mp3\", format=\"mp3\")\n",
    "audio = AudioSegment.from_file(r\"C:\\Users\\aqils\\Downloads\\Pickupline Sekolah 4.mp3\", format=\"mp3\")\n",
    "\n",
    "# Ensure the audio is in stereo format\n",
    "\n",
    "# Split based on silence\n",
    "chunks = silence.split_on_silence(\n",
    "    audio,\n",
    "    min_silence_len=700,\n",
    "    silence_thresh=audio.dBFS - 14,\n",
    "    keep_silence=500\n",
    ")\n",
    "\n",
    "# Output folder\n",
    "output_folder = \"Alieff_Irfan\"\n",
    "os.makedirs(output_folder, exist_ok=True)\n",
    "\n",
    "# Save each chunk\n",
    "for i, chunk in enumerate(chunks):\n",
    "    out_path = os.path.join(output_folder, f\"Alieff_Irfan_{i+1}.wav\")\n",
    "    chunk.export(out_path, format=\"wav\")\n",
    "    print(f\"Saved: {out_path}\")"
   ]
  },
  {
   "cell_type": "markdown",
   "id": "bf97c4ef",
   "metadata": {},
   "source": [
    "add paths to json file"
   ]
  },
  {
   "cell_type": "code",
   "execution_count": 21,
   "id": "60d1810b",
   "metadata": {},
   "outputs": [],
   "source": [
    "import json\n",
    "import os\n",
    "import re\n",
    "\n",
    "# Natural sort key function\n",
    "def natural_sort_key(s):\n",
    "    return [int(text) if text.isdigit() else text.lower()\n",
    "            for text in re.split(r'(\\d+)', s)]\n",
    "\n",
    "# Load transcript data\n",
    "with open(r\"D:\\LingoMalay\\Models_Transcribe\\Dataset\\Kelantan\\#Finetune\\##Transcripts.json\", \"r\", encoding=\"utf-8\") as f:\n",
    "    transcripts = json.load(f)\n",
    "\n",
    "# Get list of .wav files from the folder and sort them naturally\n",
    "audio_dir = r\"D:\\LingoMalay\\Models_Transcribe\\Dataset\\Kelantan\\#Finetune\"\n",
    "audio_files = sorted(\n",
    "    [f for f in os.listdir(audio_dir) if f.endswith(\".wav\") or f.endswith(\".mp3\") or f.endswith(\".mp4\")],\n",
    "    key=natural_sort_key\n",
    ")\n",
    "\n",
    "# Check if lengths match\n",
    "if len(audio_files) != len(transcripts):\n",
    "    print(f\"Number of audio files: {len(audio_files)}\")\n",
    "    print(f\"Number of transcripts: {len(transcripts)}\")\n",
    "    raise ValueError(\"Mismatch between number of audio files and transcripts.\")\n",
    "\n",
    "# Write to JSONL\n",
    "with open(\"##Transcripts2.jsonl\", \"w\", encoding=\"utf-8\") as out:\n",
    "    for audio_file, transcript in zip(audio_files, transcripts):\n",
    "        record = dict(transcript)  # clone all original keys\n",
    "        record[\"audio\"] = os.path.join(audio_dir, audio_file)  # add audio path\n",
    "        json.dump(record, out, ensure_ascii=False)\n",
    "        out.write(\"\\n\")"
   ]
  },
  {
   "cell_type": "code",
   "execution_count": 15,
   "id": "8e3f4c4c",
   "metadata": {},
   "outputs": [
    {
     "name": "stdout",
     "output_type": "stream",
     "text": [
      "True\n"
     ]
    }
   ],
   "source": [
    "import os\n",
    "print(os.path.exists(\"##Transcripts2.jsonl\"))\n"
   ]
  },
  {
   "cell_type": "markdown",
   "id": "fe2aa420",
   "metadata": {},
   "source": [
    "codes below are not used"
   ]
  },
  {
   "cell_type": "markdown",
   "id": "c5e8b1ee",
   "metadata": {},
   "source": [
    "augment audio "
   ]
  },
  {
   "cell_type": "code",
   "execution_count": 19,
   "id": "70ee4eea",
   "metadata": {},
   "outputs": [
    {
     "name": "stderr",
     "output_type": "stream",
     "text": [
      "C:\\Users\\aqils\\AppData\\Local\\Temp\\ipykernel_6340\\3890452317.py:23: UserWarning: PySoundFile failed. Trying audioread instead.\n",
      "  y, sr = librosa.load(input_path, sr=16000, mono=True)\n",
      "c:\\Users\\aqils\\AppData\\Local\\Programs\\Python\\Python310\\lib\\site-packages\\librosa\\core\\audio.py:183: FutureWarning: librosa.core.audio.__audioread_load\n",
      "\tDeprecated as of librosa version 0.10.0.\n",
      "\tIt will be removed in librosa version 1.0.\n",
      "  y, sr_native = __audioread_load(path, offset, duration, dtype)\n"
     ]
    },
    {
     "name": "stdout",
     "output_type": "stream",
     "text": [
      "Skipped ##Transcripts.json: \n",
      "Loaded audio_2025-06-18_01-54-52.ogg (sr=16000)\n",
      "Loaded audio_2025-06-18_01-54-58.ogg (sr=16000)\n",
      "Loaded audio_2025-06-18_01-55-02.ogg (sr=16000)\n",
      "Loaded audio_2025-06-18_01-55-06.ogg (sr=16000)\n",
      "Loaded audio_2025-06-18_01-55-11.ogg (sr=16000)\n"
     ]
    }
   ],
   "source": [
    "import os\n",
    "import noisereduce as nr\n",
    "import soundfile as sf\n",
    "import librosa\n",
    "from tqdm import tqdm\n",
    "import numpy as np\n",
    "# import magic\n",
    "\n",
    "input_dir = r\"D:\\LingoMalay\\Models_Transcribe\\Dataset\\Kelantan\\#Finetune\"\n",
    "output_dir = \"clean_audio\"\n",
    "os.makedirs(output_dir, exist_ok=True)\n",
    "\n",
    "def save_aug(y, sr, base_name, suffix):\n",
    "    output_path = os.path.join(output_dir, f\"{base_name}_{suffix}.wav\")\n",
    "    sf.write(output_path, y, sr, subtype=\"PCM_16\")\n",
    "\n",
    "for filename in os.listdir(input_dir):\n",
    "    input_path = os.path.join(input_dir, filename)\n",
    "    base = os.path.splitext(filename)[0]  # removes original extension\n",
    "\n",
    "    # Try to load even without checking extension\n",
    "    try:\n",
    "        y, sr = librosa.load(input_path, sr=16000, mono=True)\n",
    "        print(f\"Loaded {filename} (sr={sr})\")\n",
    "        \n",
    "        # 1. Base denoised\n",
    "        y_denoised = nr.reduce_noise(y=y, sr=sr)\n",
    "        save_aug(y_denoised, sr, base, \"denoised\")\n",
    "\n",
    "        # 2. Speed up (1.1x)\n",
    "        y_fast = librosa.effects.time_stretch(y_denoised, rate=1.1)\n",
    "        save_aug(y_fast, sr, base, \"fast\")\n",
    "\n",
    "        # 3. Slow down (0.9x)\n",
    "        y_slow = librosa.effects.time_stretch(y_denoised, rate=0.9)\n",
    "        save_aug(y_slow, sr, base, \"slow\")\n",
    "\n",
    "        # 4. Pitch shift up (+2 semitones)\n",
    "        y_pitch_up = librosa.effects.pitch_shift(y_denoised, sr=sr, n_steps=2)\n",
    "        save_aug(y_pitch_up, sr, base, \"pitch_up\")\n",
    "\n",
    "        # 5. Pitch shift down (-2 semitones)\n",
    "        y_pitch_down = librosa.effects.pitch_shift(y_denoised, sr=sr, n_steps=-2)\n",
    "        save_aug(y_pitch_down, sr, base, \"pitch_down\")\n",
    "\n",
    "        # 6. Add Gaussian noise\n",
    "        noise = 0.005 * np.random.randn(len(y_denoised))\n",
    "        y_noisy = y_denoised + noise\n",
    "        save_aug(y_noisy, sr, base, \"noisy\")\n",
    "\n",
    "        # y_denoised = nr.reduce_noise(y=y, sr=sr) # Reduce noise\n",
    "        # base = os.path.splitext(filename)[0]  # removes original extension\n",
    "        # output_path = os.path.join(output_dir, base + \".wav\")\n",
    "        # sf.write(output_path, y_denoised, sr, subtype=\"PCM_16\")\n",
    "\n",
    "    except Exception as e:\n",
    "        print(f\"Skipped {filename}: {e}\")"
   ]
  },
  {
   "cell_type": "code",
   "execution_count": 16,
   "id": "af4ffd33",
   "metadata": {},
   "outputs": [
    {
     "name": "stdout",
     "output_type": "stream",
     "text": [
      "d:\\LingoMalay\\Models_Transcribe\n"
     ]
    }
   ],
   "source": [
    "!cd"
   ]
  },
  {
   "cell_type": "markdown",
   "id": "451970d1",
   "metadata": {},
   "source": [
    "prediction-based"
   ]
  },
  {
   "cell_type": "code",
   "execution_count": null,
   "id": "581c6147",
   "metadata": {},
   "outputs": [],
   "source": [
    "import joblib\n",
    "import pandas as pd\n",
    "import numpy as np\n",
    "\n",
    "vectorizer = joblib.load(r\"D:\\LingoMalay\\Models_Detect\\Model4\\vectorizer.pkl\")\n",
    "model = joblib.load(r\"D:\\LingoMalay\\Models_Detect\\Model4\\RF.pkl\")\n",
    "\n",
    "x_test_tfidf = vectorizer.transform(all_texts[:1000])\n",
    "# print(type(x_test_tfidf))\n",
    "\n",
    "probs = model.predict_proba(x_test_tfidf)\n",
    "\n",
    "# Get class labels (if you have the encoder)\n",
    "classes = model.classes_  # safer than assuming external `classes`\n",
    "\n",
    "prediction = []\n",
    "# Loop through test predictions\n",
    "for i, prob in enumerate(probs):\n",
    "    if max(prob) < 0.3:\n",
    "        prediction.append(\"unknown\")\n",
    "    else:\n",
    "        prediction.append(classes[np.argmax(prob)])\n",
    "    # print(f\"Sample {i}: {prediction}\")\n",
    "\n",
    "\n",
    "submission_df = pd.DataFrame({\n",
    "    'transcription': all_texts[:1000],\n",
    "    'dialect': prediction\n",
    "})\n",
    "\n",
    "# Save to CSV\n",
    "submission_df.to_csv('prediction_1kv3.csv', index=False)"
   ]
  },
  {
   "cell_type": "code",
   "execution_count": 14,
   "id": "1d6220b6",
   "metadata": {},
   "outputs": [],
   "source": [
    "from transformers import AutoTokenizer, AutoModelForSequenceClassification\n",
    "import torch\n",
    "import pandas as pd\n",
    "import numpy as np\n",
    "\n",
    "# Load tokenizer & model\n",
    "model_path = r\"D:\\LingoMalay\\Models_Detect\\dialect-detector3\\checkpoint-783\"  # Adjust path as needed\n",
    "tokenizer = AutoTokenizer.from_pretrained(model_path)\n",
    "model = AutoModelForSequenceClassification.from_pretrained(model_path)\n",
    "model.eval()  # Set to eval mode\n",
    "\n",
    "# Dialect label mapping (replace with your actual labels)\n",
    "id2label = joblib.load(r\"D:\\LingoMalay\\Models_Detect\\id2label.pkl\")  \n",
    "\n",
    "# Prepare predictions\n",
    "all_texts = [str(t) for t in all_texts[:1000]]  # ensure all are strings\n",
    "predictions = []\n",
    "\n",
    "# Batch processing (avoid tokenizing 1 by 1)\n",
    "batch_size = 32\n",
    "for i in range(0, len(all_texts), batch_size):\n",
    "    batch_texts = all_texts[i:i+batch_size]\n",
    "    inputs = tokenizer(batch_texts, padding=True, truncation=True, return_tensors=\"pt\")\n",
    "\n",
    "    with torch.no_grad():\n",
    "        outputs = model(**inputs)\n",
    "        probs = torch.nn.functional.softmax(outputs.logits, dim=1).numpy()\n",
    "\n",
    "    # probs = calibrated_model.predict_proba(all_texts)\n",
    "\n",
    "    for prob in probs:\n",
    "        sorted_probs = np.sort(prob)[::-1]\n",
    "        top1, top2 = sorted_probs[0], sorted_probs[1]\n",
    "\n",
    "        if (top1 - top2) < 0.2 or top1 > 0.6:  # adjust this threshold as needed\n",
    "            predictions.append(\"unknown\")\n",
    "        else:\n",
    "            predictions.append(id2label[np.argmax(prob)])\n",
    "\n",
    "\n",
    "# Save predictions\n",
    "submission_df = pd.DataFrame({\n",
    "    'transcription': all_texts[:1000],\n",
    "    'dialect': predictions\n",
    "})\n",
    "\n",
    "submission_df.to_csv('prediction_nn_transformer.csv', index=False)"
   ]
  },
  {
   "cell_type": "markdown",
   "id": "5f6ad243",
   "metadata": {},
   "source": [
    "rule base(from dictionary)"
   ]
  },
  {
   "cell_type": "code",
   "execution_count": 46,
   "id": "24cb9bcf",
   "metadata": {},
   "outputs": [
    {
     "name": "stdout",
     "output_type": "stream",
     "text": [
      "                                       transcription          dialects\n",
      "0  okay, guys. itu sajalah perkongsian nina untuk...         [sarawak]\n",
      "1  saya ingin nyatakan bahawa cara menangani masa...         [sarawak]\n",
      "2  harus difikir dari sudut mendesak untuk menjag...           [perak]\n",
      "3  harus ditampung semua. saya berikan di, di, pa...  [sarawak, perak]\n",
      "4  beban yang ditimbulkan oleh rakyat. sebab itu,...           [kedah]\n"
     ]
    }
   ],
   "source": [
    "import pandas as pd\n",
    "import re\n",
    "from datasets import load_dataset\n",
    "\n",
    "# 1. Load your dialect word list\n",
    "word_df = pd.read_csv(r\"D:\\LingoMalay\\Models_Detect\\Dataset\\malay-dialect-dictionary-instructions\\dialect_words.csv\")\n",
    "word_df['word'] = word_df['word'].str.lower()  # lowercase for consistency\n",
    "\n",
    "# 2. Build a word-to-dialect mapping\n",
    "word_to_dialect = dict(zip(word_df['word'], word_df['dialect']))\n",
    "\n",
    "# 3. Build a regex pattern that matches any dialect word as a whole word\n",
    "pattern = re.compile(r'\\b(?:' + '|'.join(map(re.escape, word_to_dialect.keys())) + r')\\b')\n",
    "\n",
    "# 4. Load dataset\n",
    "dataset = load_dataset(\"mesolitica/Malaysian-Emilia-annotated\", split=\"malaysian_emilia_youtube\")\n",
    "df = dataset.to_pandas()\n",
    "df['transcription'] = df['transcription'].str.lower()  # lowercase for matching\n",
    "\n",
    "# 5. Function to extract matched words and dialects\n",
    "def extract_dialects(text):\n",
    "    matches = pattern.findall(text)\n",
    "    dialects = {word_to_dialect[word] for word in matches if word in word_to_dialect}\n",
    "    return list(dialects) if dialects else None\n",
    "\n",
    "# 6. Apply function to the DataFrame\n",
    "df['dialects'] = df['transcription'].apply(extract_dialects)\n",
    "\n",
    "# 7. Filter only rows where dialect words were found\n",
    "filtered_df = df[df['dialects'].notnull()].reset_index(drop=True)\n",
    "\n",
    "# 8. Optional: show result\n",
    "print(filtered_df[['transcription', 'dialects']].head())\n"
   ]
  },
  {
   "cell_type": "code",
   "execution_count": 47,
   "id": "8c0d4bdb",
   "metadata": {},
   "outputs": [
    {
     "name": "stdout",
     "output_type": "stream",
     "text": [
      "                                            transcription dialects\n",
      "699861  kesejahteraan dan keusahawanan penduduk di kam...  [perak]\n",
      "699862  kuskop, eh. kementerian, ini, nama baru. kusko...  [perak]\n",
      "699863  di mana, sebanyak, eh, seratus lima puluh juta...  [perak]\n",
      "699864  yang diberikan dan, ah, akan membantu enam bel...  [perak]\n",
      "699865  dan memohon tindakan sewajarnya diambil terhad...  [perak]\n"
     ]
    }
   ],
   "source": [
    "print(filtered_df[['transcription', 'dialects']].tail())\n"
   ]
  },
  {
   "cell_type": "code",
   "execution_count": 51,
   "id": "9eeb1fcc",
   "metadata": {},
   "outputs": [
    {
     "name": "stdout",
     "output_type": "stream",
     "text": [
      "                                            transcription dialect\n",
      "401276  kesejahteraan dan keusahawanan penduduk di kam...   perak\n",
      "401277  kuskop, eh. kementerian, ini, nama baru. kusko...   perak\n",
      "401278  di mana, sebanyak, eh, seratus lima puluh juta...   perak\n",
      "401279  yang diberikan dan, ah, akan membantu enam bel...   perak\n",
      "401280  dan memohon tindakan sewajarnya diambil terhad...   perak\n"
     ]
    }
   ],
   "source": [
    "# Keep only rows with exactly one dialect\n",
    "single_dialect_df = filtered_df[filtered_df['dialects'].apply(lambda x: len(x) == 1)].reset_index(drop=True)\n",
    "\n",
    "# Optional: flatten dialect list into a single value\n",
    "single_dialect_df['dialect'] = single_dialect_df['dialects'].str[0]\n",
    "\n",
    "# Drop the 'dialects' column if no longer needed\n",
    "single_dialect_df = single_dialect_df.drop(columns=['dialects'])\n",
    "\n",
    "# Final preview\n",
    "print(single_dialect_df[['transcription', 'dialect']].tail())\n"
   ]
  },
  {
   "cell_type": "code",
   "execution_count": null,
   "id": "2c736c13",
   "metadata": {},
   "outputs": [
    {
     "name": "stdout",
     "output_type": "stream",
     "text": [
      "                                            transcription dialect\n",
      "401276  kesejahteraan dan keusahawanan penduduk di kam...   perak\n",
      "401277  kuskop, eh. kementerian, ini, nama baru. kusko...   perak\n",
      "401278  di mana, sebanyak, eh, seratus lima puluh juta...   perak\n",
      "401279  yang diberikan dan, ah, akan membantu enam bel...   perak\n",
      "401280  dan memohon tindakan sewajarnya diambil terhad...   perak\n",
      "\n",
      "Total unique label : 10\n",
      "\n",
      "Number of  dialect\n",
      "sarawak            211686\n",
      "perak              113272\n",
      "sabah               16302\n",
      "kelantan            13468\n",
      "negeri-sembilan     13355\n",
      "terengganu          10943\n",
      "melaka               9076\n",
      "kedah                7555\n",
      "pahang               2968\n",
      "johor                2656\n",
      "Name: count, dtype: int64\n"
     ]
    }
   ],
   "source": [
    "# Keep only 'transcription' and 'dialect' columns\n",
    "final_df = single_dialect_df[['transcription', 'dialect']].copy()\n",
    "\n",
    "# Optional: preview\n",
    "print(final_df.tail())\n",
    "\n",
    "#Checking the distribution of labels\n",
    "lvl = final_df['dialect'].nunique()\n",
    "lcount = final_df['dialect'].value_counts()\n",
    "\n",
    "print(\"\\nTotal unique label :\", lvl)\n",
    "print(\"\\nNumber of \",lcount)\n",
    "\n",
    "# Optional: save to CSV\n",
    "# final_df.to_csv('filtered_single_dialect.csv', index=False)"
   ]
  },
  {
   "cell_type": "code",
   "execution_count": 56,
   "id": "b6d48d03",
   "metadata": {},
   "outputs": [
    {
     "name": "stderr",
     "output_type": "stream",
     "text": [
      "C:\\Users\\aqils\\AppData\\Local\\Temp\\ipykernel_2276\\1741679973.py:9: DeprecationWarning: DataFrameGroupBy.apply operated on the grouping columns. This behavior is deprecated, and in a future version of pandas the grouping columns will be excluded from the operation. Either pass `include_groups=False` to exclude the groupings or explicitly select the grouping columns after groupby to silence this warning.\n",
      "  .apply(lambda x: x.sample(min(len(x), max_samples), random_state=42))\n"
     ]
    },
    {
     "name": "stdout",
     "output_type": "stream",
     "text": [
      "dialect\n",
      "kedah              5000\n",
      "kelantan           5000\n",
      "melaka             5000\n",
      "negeri-sembilan    5000\n",
      "perak              5000\n",
      "sabah              5000\n",
      "sarawak            5000\n",
      "terengganu         5000\n",
      "pahang             2968\n",
      "johor              2656\n",
      "Name: count, dtype: int64\n"
     ]
    }
   ],
   "source": [
    "import pandas as pd\n",
    "\n",
    "# Set a maximum target per class\n",
    "max_samples = 5000  # adjust this depending on balance you want\n",
    "\n",
    "# Downsample overrepresented classes\n",
    "balanced_df = (\n",
    "    final_df.groupby('dialect', group_keys=False)\n",
    "    .apply(lambda x: x.sample(min(len(x), max_samples), random_state=42))\n",
    "    .reset_index(drop=True)\n",
    ")\n",
    "\n",
    "# Optional: Check new distribution\n",
    "print(balanced_df['dialect'].value_counts())\n",
    "\n",
    "# Save the balanced version\n",
    "balanced_df.to_csv('balanced_dialect_transcription.csv', index=False)\n"
   ]
  },
  {
   "cell_type": "code",
   "execution_count": 9,
   "id": "b1b038d2",
   "metadata": {},
   "outputs": [
    {
     "name": "stdout",
     "output_type": "stream",
     "text": [
      "Question Length Summary (in number of words):\n",
      "count    1.002804e+06\n",
      "mean     2.875932e+01\n",
      "std      1.768689e+01\n",
      "min      2.000000e+00\n",
      "25%      1.600000e+01\n",
      "50%      2.400000e+01\n",
      "75%      3.800000e+01\n",
      "max      2.180000e+02\n",
      "Name: num_words, dtype: float64\n"
     ]
    },
    {
     "data": {
      "image/png": "[encoded data removed]",
      "text/plain": [
       "<Figure size 600x300 with 1 Axes>"
      ]
     },
     "metadata": {},
     "output_type": "display_data"
    }
   ],
   "source": [
    "import matplotlib.pyplot as plt\n",
    "import seaborn as sns\n",
    "# instruction_dialect\n",
    "# sentence\n",
    "dataset['num_words'] = dataset['transcription'].apply(lambda x: len(str(x).split()))\n",
    "\n",
    "print(\"Question Length Summary (in number of words):\")\n",
    "print(dataset['num_words'].describe())\n",
    "\n",
    "plt.figure(figsize=(6,3))\n",
    "sns.histplot(dataset['num_words'], bins=50, kde=True)\n",
    "plt.xlabel(\"Number of Words in instruction_dialect\")\n",
    "plt.ylabel(\"Frequency\")\n",
    "plt.title(\"Distribution of instruction_dialect Lengths\")\n",
    "plt.show()"
   ]
  },
  {
   "cell_type": "markdown",
   "id": "c7ed7cb8",
   "metadata": {},
   "source": [
    "predict2"
   ]
  },
  {
   "cell_type": "code",
   "execution_count": 66,
   "id": "97315ed1",
   "metadata": {},
   "outputs": [
    {
     "name": "stdout",
     "output_type": "stream",
     "text": [
      "Length of x_test: 1002804\n",
      "Length of preds: 1\n",
      "Length of dataset['transcription']: 1002804\n"
     ]
    }
   ],
   "source": [
    "print(\"Length of x_test:\", len(x_test))\n",
    "print(\"Length of preds:\", len(preds))\n",
    "print(\"Length of dataset['transcription']:\", len(dataset['transcription']))\n"
   ]
  },
  {
   "cell_type": "code",
   "execution_count": 3,
   "id": "99aa48fe",
   "metadata": {},
   "outputs": [],
   "source": [
    "import joblib\n",
    "import pandas as pd\n",
    "import numpy as np\n",
    "\n",
    "vectorizer = joblib.load(r\"D:\\LingoMalay\\Models_Detect\\Model4\\vectorizer.pkl\")\n",
    "x_test_tfidf = vectorizer.transform(df[\"transcription\"][:1000])\n",
    "# print(type(x_test_tfidf))\n",
    "\n",
    "# bayes already included vectorizer\n",
    "model = joblib.load(r\"D:\\LingoMalay\\Models_Detect\\Model4\\SVM.pkl\")\n",
    "preds = model.predict(x_test_tfidf)\n",
    "\n",
    "submission_df = pd.DataFrame({\n",
    "    'transcription': dataset['transcription'][:1000],\n",
    "    'dialect': preds\n",
    "})\n",
    "\n",
    "# Save to CSV\n",
    "submission_df.to_csv('prediction_SVM_1k.csv', index=False)"
   ]
  },
  {
   "cell_type": "code",
   "execution_count": null,
   "id": "11cdde0e",
   "metadata": {},
   "outputs": [
    {
     "name": "stderr",
     "output_type": "stream",
     "text": [
      "100%|██████████| 1003/1003 [46:36<00:00,  2.79s/it]   \n"
     ]
    }
   ],
   "source": [
    "from tqdm import tqdm\n",
    "\n",
    "batch_size = 1000\n",
    "preds = []\n",
    "\n",
    "for i in tqdm(range(0, len(dataset), batch_size)):\n",
    "    batch_texts = dataset[i:i+batch_size]\n",
    "    batch_tfidf = vectorizer.transform(batch_texts)\n",
    "    batch_preds = model.predict(batch_tfidf)\n",
    "    preds.extend(batch_preds)\n"
   ]
  },
  {
   "cell_type": "code",
   "execution_count": 7,
   "id": "6f6fd59f",
   "metadata": {},
   "outputs": [
    {
     "name": "stdout",
     "output_type": "stream",
     "text": [
      "['kelantan', 'kl', 'kl', 'kl', 'sabah', 'sarawak', 'kl', 'sabah', 'kl', 'sabah']\n"
     ]
    }
   ],
   "source": [
    "print(preds[:10])\n",
    "submission_df = pd.DataFrame({\n",
    "    'transcription': dataset['transcription'],\n",
    "    'dialect': preds\n",
    "})\n",
    "# Save to CSV\n",
    "submission_df.to_csv('prediction_SVM.csv', index=False)"
   ]
  },
  {
   "cell_type": "code",
   "execution_count": 7,
   "id": "40add708",
   "metadata": {},
   "outputs": [],
   "source": [
    "def format_with_dialect(example):\n",
    "    dialect = example.get('dialect', '').lower().strip() if example.get('dialect') else ''\n",
    "    sentence = example.get('answer_dialect', '').strip() if example.get('answer_dialect') else ''\n",
    "    dialect_token = f\"<|{dialect}|>\" if dialect else ''\n",
    "    example['formatted_text'] = f\"{dialect_token} {sentence}\".strip()\n",
    "    return example\n",
    "\n",
    "dataset = dataset.map(format_with_dialect)"
   ]
  }
 ],
 "metadata": {
  "kernelspec": {
   "display_name": "Python 3",
   "language": "python",
   "name": "python3"
  },
  "language_info": {
   "codemirror_mode": {
    "name": "ipython",
    "version": 3
   },
   "file_extension": ".py",
   "mimetype": "text/x-python",
   "name": "python",
   "nbconvert_exporter": "python",
   "pygments_lexer": "ipython3",
   "version": "3.10.9"
  }
 },
 "nbformat": 4,
 "nbformat_minor": 5
}
